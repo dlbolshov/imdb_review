{
 "cells": [
  {
   "cell_type": "code",
   "execution_count": 1,
   "id": "90501040",
   "metadata": {},
   "outputs": [],
   "source": [
    "import pandas as pd\n",
    "import glob\n",
    "import os"
   ]
  },
  {
   "cell_type": "code",
   "execution_count": 2,
   "id": "71d0d6dc",
   "metadata": {},
   "outputs": [],
   "source": [
    "def parse_to_df(folder, index_shift=0):\n",
    "    fnames = glob.glob(folder + '/*')\n",
    "    text_rate = []\n",
    "    ids = []\n",
    "    for name in fnames:\n",
    "        with open(name, 'r') as f:\n",
    "            text = f.read()\n",
    "            text = text.replace('<br /><br />', '\\n')\n",
    "            index, rate = name.split('/')[-1][:-4].split('_')\n",
    "            index, rate = int(index), int(rate)\n",
    "            text_rate.append([text, rate])\n",
    "            ids.append(index + index_shift)\n",
    "    df = pd.DataFrame(text_rate, columns=['text', 'rate'], index=ids).sort_index()\n",
    "    return df\n",
    "\n",
    "def parse_binary_to_df(folder):\n",
    "    fnames_neg = glob.glob(folder + '/neg/*')\n",
    "    text_bin = []\n",
    "    ids = []\n",
    "    for name in fnames_neg:\n",
    "        with open(name, 'r') as f:\n",
    "            text = f.read()\n",
    "            text = text.replace('<br /><br />', '\\n')\n",
    "            index = name.split('/')[-1][:-4].split('_')[0]\n",
    "            index = int(index)\n",
    "            text_bin.append([text, 0])\n",
    "            ids.append(index)\n",
    "    df_neg = pd.DataFrame(text_bin, columns=['text', 'positive'], index=ids).sort_index()\n",
    "    \n",
    "    fnames_pos = glob.glob(folder + '/pos/*')\n",
    "    text_bin = []\n",
    "    ids = []\n",
    "    for name in fnames_pos:\n",
    "        with open(name, 'r') as f:\n",
    "            text = f.read()\n",
    "            text = text.replace('<br /><br />', '\\n')\n",
    "            index = name.split('/')[-1][:-4].split('_')[0]\n",
    "            index = int(index)\n",
    "            text_bin.append([text, 1])\n",
    "            ids.append(index + 12500)\n",
    "    df_pos = pd.DataFrame(text_bin, columns=['text', 'positive'], index=ids).sort_index()\n",
    "    \n",
    "    df = pd.concat([df_neg, df_pos])\n",
    "    return df"
   ]
  },
  {
   "cell_type": "code",
   "execution_count": 3,
   "id": "d6487489",
   "metadata": {},
   "outputs": [],
   "source": [
    "FOLDER = 'aclImdb_data'\n",
    "os.makedirs(FOLDER, exist_ok=True)\n",
    "parse_to_df('aclImdb/train/neg').to_csv(FOLDER+'/train_neg.csv')\n",
    "parse_to_df('aclImdb/train/pos').to_csv(FOLDER+'/train_pos.csv')\n",
    "parse_to_df('aclImdb/test/neg').to_csv(FOLDER+'/test_neg.csv')\n",
    "parse_to_df('aclImdb/test/pos').to_csv(FOLDER+'/test_pos.csv')\n",
    "\n",
    "pd.concat([parse_to_df('aclImdb/train/neg'), parse_to_df('aclImdb/train/pos', 12500)]).to_csv(FOLDER+'/train.csv')\n",
    "pd.concat([parse_to_df('aclImdb/test/neg'), parse_to_df('aclImdb/test/pos', 12500)]).to_csv(FOLDER+'/test.csv')\n",
    "\n",
    "parse_binary_to_df('aclImdb/train').to_csv(FOLDER+'/train_bin.csv')\n",
    "parse_binary_to_df('aclImdb/test').to_csv(FOLDER+'/test_bin.csv')"
   ]
  }
 ],
 "metadata": {
  "kernelspec": {
   "display_name": "Python 3 (ipykernel)",
   "language": "python",
   "name": "python3"
  },
  "language_info": {
   "codemirror_mode": {
    "name": "ipython",
    "version": 3
   },
   "file_extension": ".py",
   "mimetype": "text/x-python",
   "name": "python",
   "nbconvert_exporter": "python",
   "pygments_lexer": "ipython3",
   "version": "3.10.5"
  }
 },
 "nbformat": 4,
 "nbformat_minor": 5
}
